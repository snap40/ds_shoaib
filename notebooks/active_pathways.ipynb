{
 "cells": [
  {
   "cell_type": "code",
   "execution_count": null,
   "metadata": {},
   "outputs": [],
   "source": [
    "from adsquery.ADSQuery import ADSQuery\n",
    "import pandas as pd\n",
    "from dotenv import load_dotenv\n",
    "import os\n",
    "from pipelines.config.config import pipeline_config \n",
    "\n",
    "pd.options.display.max_rows = None"
   ]
  },
  {
   "cell_type": "code",
   "execution_count": null,
   "metadata": {},
   "outputs": [],
   "source": [
    "load_dotenv()"
   ]
  },
  {
   "cell_type": "code",
   "execution_count": null,
   "metadata": {},
   "outputs": [],
   "source": [
    "#os.environ"
   ]
  },
  {
   "cell_type": "code",
   "execution_count": null,
   "metadata": {},
   "outputs": [],
   "source": [
    "adsq_us = ADSQuery.with_role(assume_role_arn=os.getenv(\"assumed_role_arn_us\"),\n",
    "                          role_session_name=os.getenv(\"role_session_name\"),\n",
    "                          mfa_arn=os.getenv(\"mfa_arn\"),\n",
    "                          token_code=\"\",\n",
    "                          region_name=\"us-east-1\")"
   ]
  },
  {
   "cell_type": "code",
   "execution_count": null,
   "metadata": {},
   "outputs": [],
   "source": [
    "adsq_eu= ADSQuery.with_role(assume_role_arn=os.getenv(\"assumed_role_arn_eu\"),\n",
    "                          role_session_name=os.getenv(\"role_session_name\"),\n",
    "                          mfa_arn=os.getenv(\"mfa_arn\"),\n",
    "                          token_code=\"\",\n",
    "                          region_name=\"eu-west-1\")"
   ]
  },
  {
   "cell_type": "code",
   "execution_count": null,
   "metadata": {},
   "outputs": [],
   "source": [
    "list_tables = \"\"\"\n",
    "SELECT table_schema, \n",
    "       table_name\n",
    "FROM information_schema.tables\n",
    "ORDER BY table_schema,\n",
    "         table_name;\n",
    "\"\"\"\n",
    "tables = adsq_us.query_redshift_and_fetch_results(list_tables)"
   ]
  },
  {
   "cell_type": "code",
   "execution_count": null,
   "metadata": {},
   "outputs": [],
   "source": [
    "list_dbs = \"\"\"\n",
    "\n",
    "SELECT datname\n",
    "FROM pg_database\n",
    "WHERE datistemplate = false;\n",
    "\"\"\"\n",
    "dbs= adsq_us.query_redshift_and_fetch_results(list_dbs)"
   ]
  },
  {
   "cell_type": "code",
   "execution_count": null,
   "metadata": {},
   "outputs": [],
   "source": [
    "list_views= \"\"\"\n",
    "\n",
    "SELECT viewname, definition \n",
    "FROM pg_views\n",
    "WHERE schemaname = 'public';\n",
    "\"\"\"\n",
    "views= adsq_us.query_redshift_and_fetch_results(list_views)"
   ]
  },
  {
   "cell_type": "code",
   "execution_count": null,
   "metadata": {},
   "outputs": [],
   "source": [
    "admissions = adsq_us.query_redshift_and_fetch_results(\"select * from reporting.device_management_federated.reporting_admission LIMIT 5\")"
   ]
  },
  {
   "cell_type": "code",
   "execution_count": null,
   "metadata": {},
   "outputs": [],
   "source": [
    "admissions"
   ]
  },
  {
   "cell_type": "code",
   "execution_count": null,
   "metadata": {},
   "outputs": [],
   "source": [
    "patient_prof = adsq_us.query_redshift_and_fetch_results(\"select * from organisation_management_federated.patient_profile LIMIT 5\")"
   ]
  },
  {
   "cell_type": "code",
   "execution_count": null,
   "metadata": {},
   "outputs": [],
   "source": [
    "patient_prof"
   ]
  },
  {
   "cell_type": "code",
   "execution_count": null,
   "metadata": {},
   "outputs": [],
   "source": []
  }
 ],
 "metadata": {
  "kernelspec": {
   "display_name": "Python 3",
   "language": "python",
   "name": "python3"
  },
  "language_info": {
   "codemirror_mode": {
    "name": "ipython",
    "version": 3
   },
   "file_extension": ".py",
   "mimetype": "text/x-python",
   "name": "python",
   "nbconvert_exporter": "python",
   "pygments_lexer": "ipython3",
   "version": "3.11.5"
  },
  "orig_nbformat": 4
 },
 "nbformat": 4,
 "nbformat_minor": 2
}
